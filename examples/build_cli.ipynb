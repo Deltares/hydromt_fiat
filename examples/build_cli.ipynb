{
 "cells": [
  {
   "cell_type": "markdown",
   "metadata": {},
   "source": [
    "## Build Model"
   ]
  },
  {
   "cell_type": "markdown",
   "metadata": {},
   "source": [
    "### Using the HydroMT cli."
   ]
  },
  {
   "cell_type": "markdown",
   "metadata": {},
   "source": [
    "Here we are going to build a FIAT model using the HydroMT cli."
   ]
  },
  {
   "cell_type": "code",
   "execution_count": null,
   "metadata": {},
   "outputs": [],
   "source": [
    "# Lets check out the available HydroMT model\n",
    "! hydromt --models"
   ]
  },
  {
   "cell_type": "markdown",
   "metadata": {},
   "source": [
    "As we can see, the HydroMT-FIAT plugin in installed and ready to be used.\\\n",
    "However before we can build a model, we need data to build with.\\\n",
    "Besides the data, a configurations file is needed.\\\n",
    "This configurations file is provided to the cli and contains the settings for the FIATModel."
   ]
  },
  {
   "cell_type": "markdown",
   "metadata": {},
   "source": [
    "Let's first start with the data.\\\n",
    "HydroMT-FIAT comes with a fetch data function to download a small dataset to build with."
   ]
  },
  {
   "cell_type": "code",
   "execution_count": null,
   "metadata": {},
   "outputs": [],
   "source": [
    "# Import the function\n",
    "import sys\n",
    "\n",
    "from hydromt_fiat.data import fetch_data\n",
    "\n",
    "# Fetch the building data\n",
    "data_dir = fetch_data(\"build-data\", output_dir=\".\")\n",
    "\n",
    "# Show the path\n",
    "sys.stdout.write(f\"{data_dir.as_posix()}\\n\")"
   ]
  },
  {
   "cell_type": "markdown",
   "metadata": {},
   "source": [
    "The data comes with a data catalog that is understood by HydroMT.\\\n",
    "The data catalog contains reference to all the data and how to read them.\\\n",
    "Let's have a look at the contents of the data catalog."
   ]
  },
  {
   "cell_type": "code",
   "execution_count": null,
   "metadata": {},
   "outputs": [],
   "source": [
    "from pathlib import Path\n",
    "\n",
    "# Open the data catalog and print the content to the stdout\n",
    "with open(Path(data_dir, \"data_catalog.yml\")) as r:\n",
    "    data = r.read()\n",
    "print(data)"
   ]
  },
  {
   "cell_type": "markdown",
   "metadata": {},
   "source": [
    "In order to build a model with the HydroMT cli, a build recipe is needed.\\\n",
    "This build recipe is made in a yaml format. In this format we define at the very top\\\n",
    "'steps:' and then add the steps that correspond with the python api, i.e. setup methods\\\n",
    "for building the model. An example is shown below."
   ]
  },
  {
   "cell_type": "code",
   "execution_count": null,
   "metadata": {},
   "outputs": [],
   "source": [
    "# Open the recipe and print the content to the stdout\n",
    "with open(\"./build.yml\") as r:\n",
    "    data = r.read()\n",
    "print(data)"
   ]
  },
  {
   "cell_type": "markdown",
   "metadata": {},
   "source": [
    "Now we have a recipe, we can feed it to the cli of HydroMT.\\\n",
    "Let's have a look at the different build flags of 'hydromt build'."
   ]
  },
  {
   "cell_type": "code",
   "execution_count": null,
   "metadata": {},
   "outputs": [],
   "source": [
    "! hydromt build --help"
   ]
  },
  {
   "cell_type": "markdown",
   "metadata": {},
   "source": [
    "We need to specify our model, i.e. 'fiat', the path to the directory where out model\\\n",
    "will be built, the path to the recipe with the flag '-i' and the path to our\\\n",
    "data catalog with the flag '-d'. Let's add some extra verbosity for the logging and\\\n",
    "let's make sure our model is always written with the force overwrite flag '--fo'."
   ]
  },
  {
   "cell_type": "code",
   "execution_count": null,
   "metadata": {},
   "outputs": [],
   "source": [
    "! hydromt build fiat ./modeldata -i ./build.yml -d ./build-data/data_catalog.yml --fo -v"
   ]
  },
  {
   "cell_type": "markdown",
   "metadata": {},
   "source": [
    "It seems like our model built well. Let's make sure all the necessary files are in\\\n",
    "are in our model directory."
   ]
  },
  {
   "cell_type": "code",
   "execution_count": null,
   "metadata": {},
   "outputs": [],
   "source": [
    "from hydromt_fiat.utils import directory_tree\n",
    "\n",
    "# Print the modeldata directory as a tree\n",
    "directory_tree(\"./modeldata\")"
   ]
  }
 ],
 "metadata": {
  "kernelspec": {
   "display_name": "default",
   "language": "python",
   "name": "python3"
  },
  "language_info": {
   "codemirror_mode": {
    "name": "ipython",
    "version": 3
   },
   "file_extension": ".py",
   "mimetype": "text/x-python",
   "name": "python",
   "nbconvert_exporter": "python",
   "pygments_lexer": "ipython3",
   "version": "3.13.9"
  }
 },
 "nbformat": 4,
 "nbformat_minor": 2
}
