{
 "cells": [
  {
   "cell_type": "markdown",
   "metadata": {},
   "source": [
    "## Build Model"
   ]
  },
  {
   "cell_type": "markdown",
   "metadata": {},
   "source": [
    "### Using the HydroMT cli."
   ]
  },
  {
   "cell_type": "markdown",
   "metadata": {},
   "source": [
    "Here we are going to build a FIAT model using the HydroMT cli."
   ]
  },
  {
   "cell_type": "code",
   "execution_count": null,
   "metadata": {},
   "outputs": [],
   "source": [
    "# Lets check out the available HydroMT model\n",
    "! hydromt --models"
   ]
  },
  {
   "cell_type": "markdown",
   "metadata": {},
   "source": [
    "As we can see, the HydroMT-FIAT plugin in installed and ready to be used.\\\n",
    "However before we can build a model, we need data to build with.\\\n",
    "Besides the data, a configurations file is needed.\\\n",
    "This configurations file is provided to the cli and contains the settings for the FIATModel."
   ]
  },
  {
   "cell_type": "markdown",
   "metadata": {},
   "source": [
    "Let's first start with the data.\\\n",
    "HydroMT-FIAT comes with a fetch data function to download a small dataset to build with."
   ]
  },
  {
   "cell_type": "code",
   "execution_count": null,
   "metadata": {},
   "outputs": [],
   "source": [
    "# Import the function\n",
    "import sys\n",
    "\n",
    "from hydromt_fiat.data.fetch import fetch_data\n",
    "\n",
    "# Fetch the building data\n",
    "data_dir = fetch_data(\"build-data\")\n",
    "\n",
    "# Show the path\n",
    "sys.stdout.write(f\"{data_dir.as_posix()}\\n\")"
   ]
  },
  {
   "cell_type": "markdown",
   "metadata": {},
   "source": [
    "The data comes with a data catalog that is understood by HydroMT.\\\n",
    "The data catalog contains reference to all the data and how to read them."
   ]
  },
  {
   "cell_type": "code",
   "execution_count": null,
   "metadata": {},
   "outputs": [],
   "source": [
    "from pathlib import Path\n",
    "\n",
    "with open(Path(data_dir, \"data_catalog.yml\")) as r:\n",
    "    data = r.read()\n",
    "print(data)"
   ]
  },
  {
   "cell_type": "code",
   "execution_count": null,
   "metadata": {},
   "outputs": [],
   "source": []
  }
 ],
 "metadata": {
  "kernelspec": {
   "display_name": "dev",
   "language": "python",
   "name": "python3"
  },
  "language_info": {
   "codemirror_mode": {
    "name": "ipython",
    "version": 3
   },
   "file_extension": ".py",
   "mimetype": "text/x-python",
   "name": "python",
   "nbconvert_exporter": "python",
   "pygments_lexer": "ipython3",
   "version": "3.13.2"
  }
 },
 "nbformat": 4,
 "nbformat_minor": 2
}
