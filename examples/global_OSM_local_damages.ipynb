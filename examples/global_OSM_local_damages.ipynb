{
 "cells": [
  {
   "attachments": {},
   "cell_type": "markdown",
   "id": "eb3d1047",
   "metadata": {},
   "source": [
    "# Build a regional Delft-FIAT model with OSM exposure data and regional damage values and damage curves\n",
    "\n",
    "This notebook demonstrates how to set up a regional Delft-FIAT model using local damage values and damage curves. As an example we will create a model for the city of Rio de Janeiro, Brasil. The relevant data will be taken from [OpenStreetMap (OSM)](https://www.openstreetmap.org). Both the data sources and the region of interest (the model domain) can be changed according to the user's wishes.\n",
    "\n",
    "*Disclaimer: The outcomes of this model are not validated*\n",
    "\n",
    "## **Step 0**: Import required packages\n",
    "First we need to import the necessary python packages."
   ]
  },
  {
   "cell_type": "code",
   "execution_count": null,
   "id": "5e2c57cf",
   "metadata": {},
   "outputs": [],
   "source": [
    "# import required packages\n",
    "import os\n",
    "from hydromt_fiat.fiat import FiatModel\n",
    "from hydromt.log import setuplog\n",
    "from pathlib import Path\n",
    "import geopandas as gpd\n",
    "import matplotlib.pyplot as plt\n",
    "import shutil\n",
    "\n",
    "%matplotlib inline"
   ]
  },
  {
   "attachments": {},
   "cell_type": "markdown",
   "id": "fa3c91aa",
   "metadata": {},
   "source": [
    "## **Step 1a**: Configure - initialization\n",
    "The first step is to set up the configuration needed to initialize the FIAT model. Begin by specifying where to save the model with the following parameters:\n",
    "- `model_root`: the path to a folder where the model should be saved in\n",
    "- `model_name`: the name of the model"
   ]
  },
  {
   "cell_type": "code",
   "execution_count": null,
   "id": "982daacd",
   "metadata": {},
   "outputs": [],
   "source": [
    "model_root = \"FIAT_database\"  # where to save the FIAT model\n",
    "model_name = \"example/rio\"  # name of the case study"
   ]
  },
  {
   "cell_type": "markdown",
   "id": "cd8ab2d1",
   "metadata": {},
   "source": [
    "We need some additional utilities, such as a data catalog telling the model where to find the data and a logger keeping track of changes to the model. Specifying these, the parameters below don't need to be altered.\n",
    "- `model_folder`: the full path to the to be created model folder (`model_root` + `model_name`)\n",
    "- `data_catalog`: the relative path to the HydroMT-FIAT global data catalog. Make sure the root specified in the catalog is correct\n",
    "- `logger_name`: the log-file name. A logger object is also initialized below"
   ]
  },
  {
   "cell_type": "code",
   "execution_count": null,
   "id": "92741643",
   "metadata": {},
   "outputs": [],
   "source": [
    "model_folder = Path(model_root) / model_name  # full path to model folder\n",
    "data_catalog = (\n",
    "    Path(os.path.abspath(\"\")) / \"data\" / \"hydromt_fiat_catalog_global.yml\"\n",
    ")  # path to data catalog relative to this notebook\n",
    "logger_name = \"hydromt_fiat\"  # name of the logger\n",
    "logger = setuplog(logger_name, log_level=10)  # setup logger"
   ]
  },
  {
   "cell_type": "markdown",
   "id": "9ac62208",
   "metadata": {},
   "source": [
    "## **Step 1b**: Configure - model setup\n",
    "Next we need to set up the sptial boundaries, or domain, of the model.\n",
    "\n",
    "A useful tool for this is http://geojson.io. Here you can draw a polygon on the map and export it to a geojson file, or copy the GeoJSON description directly into the `area_of_interest` parameter. In this example, we load in a GeoJSON file with our model domain."
   ]
  },
  {
   "cell_type": "code",
   "execution_count": null,
   "id": "d07d0b3b",
   "metadata": {},
   "outputs": [],
   "source": [
    "domain_fn = Path(\"./data/region/Riodejaneiro.geojson\")\n",
    "region = gpd.read_file(domain_fn)"
   ]
  },
  {
   "cell_type": "markdown",
   "id": "642fa09d",
   "metadata": {},
   "source": [
    "To assign the relevant maximum potential damages and vulnerability curves, HydroMT-FIAT must know"
   ]
  },
  {
   "cell_type": "markdown",
   "id": "1935203e",
   "metadata": {},
   "source": [
    "Next, we need to specify properties of the various dataset. For the vulnerability and exposure data HydroMT-FIAT needs the names and unit of the datasets. The names should correspond to the names (keys) in the data catalog except from the OSM data, which is accessed with the [OSMnx Python package](https://geoffboeing.com/publications/osmnx-complex-street-networks/). Should you wish to use different data sources, *make sure to update the data catalog*. For the output data, we need to specify the output file names and where to store them. The parameter names below are parsed by the model builder, so they should not be changed.\n",
    "\n",
    "**Vulnerability**\n",
    "- `vulnerability_fn`: the source name of the vulnerability curve dataset as defined in the HydroMT-FIAT global data catalog. In this example, we use the JRC global damage curves.\n",
    "- `vulnerability_identifiers_and_linking_fn`: the source name of the *occupancy type-vulnerability curves* linking table as defined in the HydroMT-FIAT data catalog.\n",
    "- `unit`: the unit of the vulnerability curves. The JRC curves are in meters.\n",
    "\n",
    "**Exposure**\n",
    "- `asset_locations`: the source name of the location and (optionally) geometry data of the assests for which damages will be calculated. In this example, the building footprints from OSM are used.\n",
    "- `occupancy_type`: the source name of the occupancy type data to classify the assets. In this example, the land use data from OSM is used.\n",
    "- `max_potential_damage`: the source name of the maximum potential damage values data. In this example, the JRC maximum damage values are used.\n",
    "- `ground_floor_height`: the height of the ground floor of all assets, in the same `unit`\n",
    "- `unit`: the unit of the exposure data\n",
    "\n",
    "**Output**\n",
    "- `output_dir`: the name of the output directory\n",
    "- `output_csv_name`: the name of the output CSV\n",
    "- `output_vector_name`: the name of the vector output file(s)"
   ]
  },
  {
   "cell_type": "code",
   "execution_count": null,
   "id": "7456626c",
   "metadata": {},
   "outputs": [],
   "source": [
    "### Setup vulnerability parameters ###\n",
    "csv_fn = Path(\"./data/damage_functions/flooding/Rio_single_curves\")\n",
    "vulnerability_identifiers_and_linking_fn = Path(\"./data/vulnerability_linking/Rio_damage_functions_linking.csv\")\n",
    "unit = \"meters\"\n",
    "\n",
    "### Setup exposure parameters ###\n",
    "asset_locations = \"OSM\"\n",
    "occupancy_type = \"OSM\"\n",
    "max_potential_damage = Path(\"./data/max_potential_damages/Rio_max_pot_damages.csv\")\n",
    "ground_floor_height = 0\n",
    "damage_types = [\"structure\", \"content\"]\n",
    "unit = \"meters\"\n",
    "\n",
    "### Setup output parameters ###\n",
    "output_dir = \"output\"\n",
    "output_csv_name = \"output.csv\"\n",
    "output_vector_name = \"spatial.gpkg\""
   ]
  },
  {
   "cell_type": "markdown",
   "id": "cf2f0ad5",
   "metadata": {},
   "source": [
    "The above parameters are collected in a dictonairy to be passed to HydroMT-FIAT."
   ]
  },
  {
   "cell_type": "code",
   "execution_count": null,
   "id": "8c5d6e92",
   "metadata": {},
   "outputs": [],
   "source": [
    "configuration = {\n",
    "    \"setup_output\": {\n",
    "        \"output_dir\": output_dir,\n",
    "        \"output_csv_name\": output_csv_name,\n",
    "        \"output_vector_name\": output_vector_name,\n",
    "    },\n",
    "    \"setup_vulnerability_from_csv\": {\n",
    "        \"vulnerability_csv\": csv_fn,\n",
    "        \"unit\": unit,\n",
    "    },\n",
    "    \"setup_exposure_buildings\": {\n",
    "        \"asset_locations\": asset_locations,\n",
    "        \"occupancy_type\": occupancy_type,\n",
    "        \"max_potential_damage\": max_potential_damage,\n",
    "        \"ground_floor_height\": ground_floor_height,\n",
    "        \"unit\": unit,\n",
    "        \"damage_types\": damage_types,\n",
    "    },\n",
    "}"
   ]
  },
  {
   "attachments": {},
   "cell_type": "markdown",
   "id": "2e27fa80",
   "metadata": {},
   "source": [
    "## **Step 2**: Initialize\n",
    "In this step we initialize HydroMT-FIAT with the `model_folder`, `data_catalog`, and `logger` that we defined above.\n",
    "\n",
    "*Note that if the `model_folder` already exists, it is deleted before initializing HydroMT-FIAT.*"
   ]
  },
  {
   "cell_type": "code",
   "execution_count": null,
   "id": "c1ef7aac",
   "metadata": {},
   "outputs": [],
   "source": [
    "if model_folder.exists():\n",
    "    shutil.rmtree(model_folder)\n",
    "fiat_model = FiatModel(\n",
    "    root=model_folder, mode=\"w\", data_libs=[data_catalog], logger=logger\n",
    ")"
   ]
  },
  {
   "attachments": {},
   "cell_type": "markdown",
   "id": "f330fb15",
   "metadata": {},
   "source": [
    "## **Step 3**: Build\n",
    "In this step we build the Delft-FIAT model. Depending on the extent of the model it can take some time to download the building footprints and land use data from OSM. During the building of the model, log messages display what is happening.\n",
    "\n",
    "*Note that the model will not yet be written because of setting the write argument to False.*"
   ]
  },
  {
   "cell_type": "code",
   "execution_count": null,
   "id": "c2180e0c",
   "metadata": {},
   "outputs": [],
   "source": [
    "fiat_model.build(region={\"geom\": region}, opt=configuration, write=False)"
   ]
  },
  {
   "cell_type": "markdown",
   "id": "3c18d888",
   "metadata": {},
   "source": [
    "## **Step 4a**: Inspect model\n",
    "We now inspect the resulting exposure data and vulnerability curves that will be saved in the `fiat_model`.\n",
    "\n",
    "### Exposure data\n",
    "In the map below, the region and secondary_object_type of the exposure objects are plotted. You can zoom in and see whether the data makes sense, perhaps using Google maps and/or streetview to validate the occupancy types.\n",
    "\n",
    "*Note: In Delft-FIAT, exposure is defined with object footprints, lines or centroids. In this example we are only using the buildings extracted from the OSM data. This means we are not going to look into, e.g., farmland, roads, etc. but that is possible with Delft-FIAT.*"
   ]
  },
  {
   "cell_type": "code",
   "execution_count": null,
   "id": "6df4fb1b",
   "metadata": {},
   "outputs": [],
   "source": [
    "# Get the geodataframe with exposure data\n",
    "gdf = fiat_model.exposure.get_full_gdf(fiat_model.exposure.exposure_db)\n",
    "\n",
    "# Plot the region and the secondary_object_types of the exposure data\n",
    "m = region.explore(name=\"Region\", style_kwds={\"color\": \"black\", \"fill\": False})\n",
    "m = gdf.explore(m=m, column=\"secondary_object_type\", name=\"Exposure types\")\n",
    "m"
   ]
  },
  {
   "cell_type": "markdown",
   "id": "e6ddda9d",
   "metadata": {},
   "source": [
    "### Maximum potential damage values\n",
    "The next thing we inspect are the maximum potential damage values. Each of these buildings has a maximum potential damage that can be inflicted by a flood, which is associated with structural damages (e.g., to the walls) or damage to contents (e.g., to the furniture).\n",
    "\n",
    "The maximum structural potential damage of a building is associated with the construction costs, the size of the building and the depreciated value of the building after the flood. For an accurate flood damage assessment this information is required at the building level. However, often this is not available. Therefore, the buildings are usually classified based on their material and usage type, and assigned a generalized maximum potential damage per m<sup>2</sup> per class.\n",
    "\n",
    "In this example, the maximum potential damage values per m<sup>2</sup> from a global study from [JRC](https://publications.jrc.ec.europa.eu/repository/handle/JRC105688) are used. This is the same study where we take the vulnerability curves from, see below. Wherever possible we recommend to use more location-specific damage values data. For instance in the US, [FEMA Hazus](https://www.fema.gov/flood-maps/tools-resources/flood-map-products/hazus/user-technical-manuals) is an industry standard in how to derive the maximum potential damage values and damage curves.\n",
    "\n",
    "In this case the maximum potential damage is in USD 2020. By multiplying the maximum potential damage values per m<sup>2</sup> with the area of the building footprints, we derive the maximum potential structure damage value for each of our exposure assets. You can see this in the map below."
   ]
  },
  {
   "cell_type": "code",
   "execution_count": null,
   "id": "0ac56e14",
   "metadata": {},
   "outputs": [],
   "source": [
    "gdf.explore(column=\"max_damage_total\")"
   ]
  },
  {
   "attachments": {},
   "cell_type": "markdown",
   "id": "b7d618a6",
   "metadata": {},
   "source": [
    "### Vulnerability curves\n",
    "A flooding typically does not cause maximum damage to a structure. This is accounted for by the damage fraction, quantifying the damage to a structure relative to the maximum potential damage. A damage cuvre, or vulnerability curve, then relates the water depth (quantifying the flood severity) to the damage fraction. The shape of the damage curve differs for each occupancy type. These two datasets are linked through the vulnerability linking table. If the ground floor of a building is raised (by an amount given by `ground_floor_height`), the water depth is reduced with the ground_flht.\n",
    "\n",
    "Global damage curves are available through the JRC, however it is advisable to use more location-specific data whenever available. Here though, we demonstrate a globally applicable method using the JRC vulnerability and the OSM land use/occupancy data. Plotted below are the damage curves for residential, commercial, and industrial land types."
   ]
  },
  {
   "cell_type": "code",
   "execution_count": null,
   "id": "ca00eef7",
   "metadata": {},
   "outputs": [],
   "source": [
    "# Get the range of (possible) water depths\n",
    "water_depths = fiat_model.vulnerability.hazard_values\n",
    "# Plot damage curves for some occupancy types\n",
    "line_styles = [\"--\", \"-\", \":\"]\n",
    "for function_name, ls in zip(fiat_model.vulnerability.functions.keys(), line_styles):\n",
    "    dmg = [float(i) for i in fiat_model.vulnerability.functions[function_name]]\n",
    "    plt.plot(water_depths, dmg, label=function_name, ls=ls)\n",
    "plt.xlabel(\"depth (m)\")\n",
    "plt.ylabel(\"damage fraction (-)\")\n",
    "plt.legend(bbox_to_anchor=(1.04, 1), loc=\"upper left\")\n",
    "plt.show()"
   ]
  },
  {
   "attachments": {},
   "cell_type": "markdown",
   "id": "0b37d263",
   "metadata": {},
   "source": [
    "## **Step 5**: Write a model\n",
    "In this final step, the FIAT model is written to the `model_folder` in the folder structure that is required for Delft-FIAT."
   ]
  },
  {
   "cell_type": "code",
   "execution_count": null,
   "id": "32996f5d",
   "metadata": {},
   "outputs": [],
   "source": [
    "fiat_model.write()"
   ]
  },
  {
   "cell_type": "markdown",
   "id": "e5dbcc76",
   "metadata": {},
   "source": [
    "## **Step 6**: Read a model\n",
    "First initialize a new model instance in read mode in the correct folder to read in an already configured model"
   ]
  },
  {
   "cell_type": "code",
   "execution_count": null,
   "id": "8bc253dc",
   "metadata": {},
   "outputs": [],
   "source": [
    "fiat_model_new = FiatModel(\n",
    "    root=model_folder, mode=\"r\", data_libs=[data_catalog], logger=logger\n",
    ")\n",
    "fiat_model_new.read()"
   ]
  }
 ],
 "metadata": {
  "kernelspec": {
   "display_name": "hydromt-fiat-dev",
   "language": "python",
   "name": "python3"
  },
  "language_info": {
   "codemirror_mode": {
    "name": "ipython",
    "version": 3
   },
   "file_extension": ".py",
   "mimetype": "text/x-python",
   "name": "python",
   "nbconvert_exporter": "python",
   "pygments_lexer": "ipython3",
   "version": "3.10.14"
  }
 },
 "nbformat": 4,
 "nbformat_minor": 5
}
