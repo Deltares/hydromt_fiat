{
 "cells": [
  {
   "cell_type": "markdown",
   "metadata": {},
   "source": [
    "## Build Model"
   ]
  },
  {
   "cell_type": "markdown",
   "metadata": {},
   "source": [
    "### Using the python API."
   ]
  },
  {
   "cell_type": "markdown",
   "metadata": {},
   "source": [
    "Here we are going to build a model using the HydroMT-FIAT python API."
   ]
  },
  {
   "cell_type": "code",
   "execution_count": null,
   "metadata": {},
   "outputs": [],
   "source": [
    "# Imports\n",
    "import tempfile\n",
    "from pathlib import Path\n",
    "\n",
    "from hydromt._utils import log\n",
    "\n",
    "from hydromt_fiat import FIATModel\n",
    "from hydromt_fiat.data import fetch_data"
   ]
  },
  {
   "cell_type": "markdown",
   "metadata": {},
   "source": [
    "Lets make sure that there is a directory to build to.\n",
    "\n",
    "Also ensure we have some data to build with, hydromt_fiat comes with a small to function to fetch a small dataset to build with."
   ]
  },
  {
   "cell_type": "code",
   "execution_count": null,
   "metadata": {},
   "outputs": [],
   "source": [
    "# Use the built-in tempfile package\n",
    "temp_dir = tempfile.TemporaryDirectory(delete=False)\n",
    "p = Path(temp_dir.name)\n",
    "\n",
    "## Get the build data\n",
    "data_dir = fetch_data(\"build-data\")"
   ]
  },
  {
   "cell_type": "markdown",
   "metadata": {},
   "source": [
    "Now lets setup the Model."
   ]
  },
  {
   "cell_type": "code",
   "execution_count": null,
   "metadata": {},
   "outputs": [],
   "source": [
    "# Create a model in write mode.\n",
    "log._setuplog()\n",
    "model = FIATModel(root=p, mode=\"w+\", data_libs=Path(data_dir, \"data_catalog.yml\"))"
   ]
  },
  {
   "cell_type": "markdown",
   "metadata": {},
   "source": [
    "Next step is to update the configurations and add a region for the model to know to collect data in.\n",
    "\n",
    "Luckily a region vector file is incorporated in the small build data directory."
   ]
  },
  {
   "cell_type": "code",
   "execution_count": null,
   "metadata": {},
   "outputs": [],
   "source": [
    "# Add some of the configurations\n",
    "model.setup_config(**{\"model.model_type\": \"geom\", \"output.path\": \"output\"})\n",
    "\n",
    "# Add a region to build with\n",
    "model.setup_region(Path(data_dir, \"region.geojson\"))"
   ]
  },
  {
   "cell_type": "markdown",
   "metadata": {},
   "source": [
    "Lets verify the presence of our region, which is crucial for building our hazard and exposure data."
   ]
  },
  {
   "cell_type": "code",
   "execution_count": null,
   "metadata": {},
   "outputs": [],
   "source": [
    "model.region"
   ]
  },
  {
   "cell_type": "markdown",
   "metadata": {},
   "source": [
    "All seems in order, therefore we can move on to setting up the FIAT model data.\n",
    "\n",
    "Let's start with the vulnerability, as this data is crucial for the exposure data."
   ]
  },
  {
   "cell_type": "code",
   "execution_count": null,
   "metadata": {},
   "outputs": [],
   "source": [
    "# Call the setup method of the component\n",
    "model.vulnerability.setup(\n",
    "    vulnerability_fname=\"vulnerability_curves\",\n",
    "    vulnerability_linking_fname=\"vulnerability_curves_linking\",\n",
    "    unit=\"m\",\n",
    "    continent=\"europe\",  # A keyword argument to select data from the\n",
    "    # vulnerability_fname dataset\n",
    ")"
   ]
  },
  {
   "cell_type": "markdown",
   "metadata": {},
   "source": [
    "This should result in data in our vulnerability data component, lets see."
   ]
  },
  {
   "cell_type": "code",
   "execution_count": null,
   "metadata": {},
   "outputs": [],
   "source": [
    "model.vulnerability.data"
   ]
  },
  {
   "cell_type": "markdown",
   "metadata": {},
   "source": [
    "Simply done."
   ]
  }
 ],
 "metadata": {
  "kernelspec": {
   "display_name": "default",
   "language": "python",
   "name": "python3"
  },
  "language_info": {
   "codemirror_mode": {
    "name": "ipython",
    "version": 3
   },
   "file_extension": ".py",
   "mimetype": "text/x-python",
   "name": "python",
   "nbconvert_exporter": "python",
   "pygments_lexer": "ipython3",
   "version": "3.13.7"
  }
 },
 "nbformat": 4,
 "nbformat_minor": 2
}
