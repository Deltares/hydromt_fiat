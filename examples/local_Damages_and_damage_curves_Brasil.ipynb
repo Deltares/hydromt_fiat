{
 "cells": [
  {
   "attachments": {},
   "cell_type": "markdown",
   "id": "eb3d1047",
   "metadata": {},
   "source": [
    "# Build a regional Delft-FIAT model with OSM exposure data and regional damage values and damage curves\n",
    "\n",
    "This notebook demonstrates how to set up a regional Delft-FIAT model using local damage values and damage curves. As an example we will create a model for the city of Rio de Janeiro, Brasil. The relevant data will be taken from [OpenStreetMap (OSM)](https://www.openstreetmap.org). Both the data sources and the region of interest (the model domain) can be changed according to the user's wishes.\n",
    "\n",
    "*Disclaimer: The outcomes of this model are not validated*\n",
    "\n",
    "## **Step 0**: Import required packages\n",
    "First we need to import the necessary python packages."
   ]
  },
  {
   "cell_type": "code",
   "execution_count": 1,
   "id": "5e2c57cf",
   "metadata": {},
   "outputs": [],
   "source": [
    "# import required packages\n",
    "import os\n",
    "from hydromt_fiat.fiat import FiatModel\n",
    "from hydromt.log import setuplog\n",
    "from pathlib import Path\n",
    "import geopandas as gpd\n",
    "import matplotlib.pyplot as plt\n",
    "import shutil\n",
    "\n",
    "%matplotlib inline"
   ]
  },
  {
   "attachments": {},
   "cell_type": "markdown",
   "id": "fa3c91aa",
   "metadata": {},
   "source": [
    "## **Step 1a**: Configure - initialization\n",
    "The first step is to set up the configuration needed to initialize the FIAT model. Begin by specifying where to save the model with the following parameters:\n",
    "- `model_root`: the path to a folder where the model should be saved in\n",
    "- `model_name`: the name of the model"
   ]
  },
  {
   "cell_type": "code",
   "execution_count": 2,
   "id": "982daacd",
   "metadata": {},
   "outputs": [],
   "source": [
    "model_root = \"FIAT_database\"  # where to save the FIAT model\n",
    "model_name = \"example/rio\"  # name of the case study"
   ]
  },
  {
   "cell_type": "markdown",
   "id": "cd8ab2d1",
   "metadata": {},
   "source": [
    "We need some additional utilities, such as a data catalog telling the model where to find the data and a logger keeping track of changes to the model. Specifying these, the parameters below don't need to be altered.\n",
    "- `model_folder`: the full path to the to be created model folder (`model_root` + `model_name`)\n",
    "- `data_catalog`: the relative path to the HydroMT-FIAT global data catalog. Make sure the root specified in the catalog is correct\n",
    "- `logger_name`: the log-file name. A logger object is also initialized below"
   ]
  },
  {
   "cell_type": "code",
   "execution_count": 3,
   "id": "92741643",
   "metadata": {},
   "outputs": [
    {
     "name": "stdout",
     "output_type": "stream",
     "text": [
      "2025-02-07 16:04:20,177 - hydromt_fiat - log - INFO - HydroMT version: 0.9.4\n"
     ]
    }
   ],
   "source": [
    "model_folder = Path(model_root) / model_name  # full path to model folder\n",
    "data_catalog = (\n",
    "    Path(os.path.abspath(\"\")) / \"data\" / \"hydromt_fiat_catalog_global.yml\"\n",
    ")  # path to data catalog relative to this notebook\n",
    "logger_name = \"hydromt_fiat\"  # name of the logger\n",
    "logger = setuplog(logger_name, log_level=10)  # setup logger"
   ]
  },
  {
   "cell_type": "markdown",
   "id": "9ac62208",
   "metadata": {},
   "source": [
    "## **Step 1b**: Configure - model setup\n",
    "Next we need to set up the sptial boundaries, or domain, of the model.\n",
    "\n",
    "A useful tool for this is http://geojson.io. Here you can draw a polygon on the map and export it to a geojson file, or copy the GeoJSON description directly into the `area_of_interest` parameter. In this example, we load in a GeoJSON file with our model domain."
   ]
  },
  {
   "cell_type": "code",
   "execution_count": 4,
   "id": "d07d0b3b",
   "metadata": {},
   "outputs": [],
   "source": [
    "domain_fn = Path(\"./data/region/Riodejaneiro.geojson\")\n",
    "region = gpd.read_file(domain_fn)"
   ]
  },
  {
   "cell_type": "markdown",
   "id": "642fa09d",
   "metadata": {},
   "source": [
    "To assign the relevant maximum potential damages and vulnerability curves, HydroMT-FIAT must know"
   ]
  },
  {
   "cell_type": "markdown",
   "id": "1935203e",
   "metadata": {},
   "source": [
    "Next, we need to specify properties of the various dataset. For the vulnerability and exposure data HydroMT-FIAT needs the names and unit of the datasets. The names should correspond to the names (keys) in the data catalog except from the OSM data, which is accessed with the [OSMnx Python package](https://geoffboeing.com/publications/osmnx-complex-street-networks/). Should you wish to use different data sources, *make sure to update the data catalog*. For the output data, we need to specify the output file names and where to store them. The parameter names below are parsed by the model builder, so they should not be changed.\n",
    "\n",
    "**Vulnerability**\n",
    "- `vulnerability_fn`: the source name of the vulnerability curve dataset as defined in the HydroMT-FIAT global data catalog. In this example, we use regional damage curves.\n",
    "- `vulnerability_identifiers_and_linking_fn`: the source name of the *occupancy type-vulnerability curves* linking table.\n",
    "- `unit`: the unit of the vulnerability curves. The regional curves are in meters.\n",
    "\n",
    "**Exposure**\n",
    "- `asset_locations`: the source name of the location and (optionally) geometry data of the assests for which damages will be calculated. In this example, regional footprints are used.\n",
    "- `occupancy_type`: the source name of the occupancy type data to classify the assets. In this example, the regional land use data is used.\n",
    "- `max_potential_damage`: the source name of the maximum potential damage values data. In this example, the regional maximum damage values are used.\n",
    "- `ground_floor_height`: the height of the ground floor of all assets, in the same `unit`\n",
    "- `unit`: the unit of the exposure data\n",
    "\n",
    "**Output**\n",
    "- `output_dir`: the name of the output directory\n",
    "- `output_csv_name`: the name of the output CSV\n",
    "- `output_vector_name`: the name of the vector output file(s)"
   ]
  },
  {
   "cell_type": "code",
   "execution_count": 5,
   "id": "7456626c",
   "metadata": {},
   "outputs": [],
   "source": [
    "### Setup vulnerability parameters ###\n",
    "csv_fn = Path(\"./data/damage_functions/flooding/Rio_single_curves\")\n",
    "vulnerability_identifiers_and_linking_fn = Path(\"./data/vulnerability_linking/Rio_damage_functions_linking.csv\")\n",
    "unit = \"meters\"\n",
    "\n",
    "### Setup exposure parameters ###\n",
    "asset_locations = \"OSM\"\n",
    "occupancy_type = \"OSM\"\n",
    "max_potential_damage = Path(\"./data/max_potential_damages/Rio_max_pot_damages.csv\")\n",
    "ground_floor_height = 0\n",
    "damage_types = [\"structure\", \"content\"]\n",
    "unit = \"meters\"\n",
    "\n",
    "### Setup output parameters ###\n",
    "output_dir = \"output\"\n",
    "output_csv_name = \"output.csv\"\n",
    "output_vector_name = \"spatial.gpkg\""
   ]
  },
  {
   "cell_type": "markdown",
   "id": "cf2f0ad5",
   "metadata": {},
   "source": [
    "The above parameters are collected in a dictonairy to be passed to HydroMT-FIAT."
   ]
  },
  {
   "cell_type": "code",
   "execution_count": 6,
   "id": "8c5d6e92",
   "metadata": {},
   "outputs": [],
   "source": [
    "configuration = {\n",
    "    \"setup_output\": {\n",
    "        \"output_dir\": output_dir,\n",
    "        \"output_csv_name\": output_csv_name,\n",
    "        \"output_vector_name\": output_vector_name,\n",
    "    },\n",
    "    \"setup_vulnerability_from_csv\": {\n",
    "        \"csv_fn\": csv_fn,\n",
    "        \"vulnerability_identifiers_and_linking_fn\": vulnerability_identifiers_and_linking_fn,\n",
    "        \"unit\": unit,\n",
    "    },\n",
    "    \"setup_exposure_buildings\": {\n",
    "        \"asset_locations\": asset_locations,\n",
    "        \"occupancy_type\": occupancy_type,\n",
    "        \"max_potential_damage\": max_potential_damage,\n",
    "        \"ground_floor_height\": ground_floor_height,\n",
    "        \"unit\": unit,\n",
    "        \"damage_types\": damage_types,\n",
    "    },\n",
    "}"
   ]
  },
  {
   "attachments": {},
   "cell_type": "markdown",
   "id": "2e27fa80",
   "metadata": {},
   "source": [
    "## **Step 2**: Initialize\n",
    "In this step we initialize HydroMT-FIAT with the `model_folder`, `data_catalog`, and `logger` that we defined above.\n",
    "\n",
    "*Note that if the `model_folder` already exists, it is deleted before initializing HydroMT-FIAT.*"
   ]
  },
  {
   "cell_type": "code",
   "execution_count": 7,
   "id": "c1ef7aac",
   "metadata": {},
   "outputs": [
    {
     "name": "stdout",
     "output_type": "stream",
     "text": [
      "2025-02-07 16:04:20,385 - hydromt_fiat - data_catalog - INFO - Parsing data catalog from c:\\Users\\rautenba\\repos\\hydromt_fiat\\examples\\data\\hydromt_fiat_catalog_global.yml\n",
      "2025-02-07 16:04:20,391 - hydromt_fiat - data_catalog - INFO - Parsing data catalog from C:\\Users\\rautenba\\repos\\hydromt_fiat\\hydromt_fiat\\data\\hydromt_fiat_catalog_global.yml\n",
      "2025-02-07 16:04:20,406 - hydromt_fiat - log - DEBUG - Writing log messages to new file c:\\Users\\rautenba\\repos\\hydromt_fiat\\examples\\FIAT_database\\example\\rio\\hydromt.log.\n",
      "2025-02-07 16:04:20,408 - hydromt_fiat - model_api - INFO - Initializing fiat model from hydromt_fiat (v0.5.1).\n"
     ]
    }
   ],
   "source": [
    "if model_folder.exists():\n",
    "    shutil.rmtree(model_folder)\n",
    "fiat_model = FiatModel(\n",
    "    root=model_folder, mode=\"w\", data_libs=[data_catalog], logger=logger\n",
    ")"
   ]
  },
  {
   "attachments": {},
   "cell_type": "markdown",
   "id": "f330fb15",
   "metadata": {},
   "source": [
    "## **Step 3**: Build\n",
    "In this step we build the Delft-FIAT model. Depending on the extent of the model it can take some time to. During the building of the model, log messages display what is happening.\n",
    "\n",
    "*Note that the model will not yet be written because of setting the write argument to False.*"
   ]
  },
  {
   "cell_type": "code",
   "execution_count": 8,
   "id": "c2180e0c",
   "metadata": {},
   "outputs": [
    {
     "name": "stdout",
     "output_type": "stream",
     "text": [
      "2025-02-07 16:04:20,439 - hydromt_fiat - model_api - INFO - setup_region.region: {'geom':                                             geometry\n",
      "0  POLYGON ((657054.000 7464936.000, 657054.000 7...}\n",
      "2025-02-07 16:04:20,443 - hydromt_fiat - basin_mask - DEBUG - Parsed region (kind=geom): {'geom': 'GeoDataFrame [ 656954. 7464936.  677304. 7480686.] (crs = EPSG:32723)'}\n",
      "2025-02-07 16:04:20,454 - hydromt_fiat - model_api - INFO - setup_output.output_dir: output\n",
      "2025-02-07 16:04:20,456 - hydromt_fiat - model_api - INFO - setup_output.output_csv_name: output.csv\n",
      "2025-02-07 16:04:20,457 - hydromt_fiat - model_api - INFO - setup_output.output_vector_name: spatial.gpkg\n",
      "2025-02-07 16:04:20,458 - hydromt_fiat - model_api - INFO - setup_output.output_single_file: False\n",
      "2025-02-07 16:04:20,460 - hydromt_fiat - model_api - ERROR - Default config file not found at C:\\Users\\rautenba\\repos\\hydromt_fiat\\hydromt_fiat\\data\\fiat\\settings.toml\n",
      "2025-02-07 16:04:20,461 - hydromt_fiat - model_api - INFO - setup_vulnerability_from_csv.csv_fn: data\\damage_functions\\flooding\\Rio_single_curves\n",
      "2025-02-07 16:04:20,463 - hydromt_fiat - model_api - INFO - setup_vulnerability_from_csv.vulnerability_identifiers_and_linking_fn: data\\vulnerability_linking\\Rio_damage_functions_linking.csv\n",
      "2025-02-07 16:04:20,464 - hydromt_fiat - model_api - INFO - setup_vulnerability_from_csv.unit: meters\n",
      "2025-02-07 16:04:20,511 - hydromt_fiat - model_api - INFO - setup_exposure_buildings.asset_locations: ./data/assets/Rio_assets.gpkg\n",
      "2025-02-07 16:04:20,512 - hydromt_fiat - model_api - INFO - setup_exposure_buildings.occupancy_type: ./data/assets/Rio_assets.gpkg\n",
      "2025-02-07 16:04:20,513 - hydromt_fiat - model_api - INFO - setup_exposure_buildings.max_potential_damage: data\\max_potential_damages\\Rio_max_pot_damages.csv\n",
      "2025-02-07 16:04:20,514 - hydromt_fiat - model_api - INFO - setup_exposure_buildings.ground_floor_height: 0\n",
      "2025-02-07 16:04:20,514 - hydromt_fiat - model_api - INFO - setup_exposure_buildings.unit: meters\n",
      "2025-02-07 16:04:20,515 - hydromt_fiat - model_api - INFO - setup_exposure_buildings.gfh_unit: None\n",
      "2025-02-07 16:04:20,516 - hydromt_fiat - model_api - INFO - setup_exposure_buildings.gfh_attribute_name: None\n",
      "2025-02-07 16:04:20,516 - hydromt_fiat - model_api - INFO - setup_exposure_buildings.occupancy_attr: None\n",
      "2025-02-07 16:04:20,516 - hydromt_fiat - model_api - INFO - setup_exposure_buildings.occupancy_object_type: None\n",
      "2025-02-07 16:04:20,517 - hydromt_fiat - model_api - INFO - setup_exposure_buildings.extraction_method: centroid\n",
      "2025-02-07 16:04:20,518 - hydromt_fiat - model_api - INFO - setup_exposure_buildings.damage_types: ['structure', 'content']\n",
      "2025-02-07 16:04:20,519 - hydromt_fiat - model_api - INFO - setup_exposure_buildings.linking_column: primary_object_type\n",
      "2025-02-07 16:04:20,519 - hydromt_fiat - model_api - INFO - setup_exposure_buildings.damage_unit: $\n",
      "2025-02-07 16:04:20,520 - hydromt_fiat - model_api - INFO - setup_exposure_buildings.country: None\n",
      "2025-02-07 16:04:20,521 - hydromt_fiat - model_api - INFO - setup_exposure_buildings.ground_elevation: None\n",
      "2025-02-07 16:04:20,521 - hydromt_fiat - model_api - INFO - setup_exposure_buildings.grnd_elev_unit: None\n",
      "2025-02-07 16:04:20,522 - hydromt_fiat - model_api - INFO - setup_exposure_buildings.bf_conversion: False\n",
      "2025-02-07 16:04:20,522 - hydromt_fiat - model_api - INFO - setup_exposure_buildings.keep_unclassified: True\n",
      "2025-02-07 16:04:20,523 - hydromt_fiat - model_api - INFO - setup_exposure_buildings.dst_crs: None\n",
      "2025-02-07 16:04:20,524 - hydromt_fiat - model_api - INFO - setup_exposure_buildings.damage_translation_fn: None\n",
      "2025-02-07 16:04:20,524 - hydromt_fiat - model_api - INFO - setup_exposure_buildings.eur_to_us_dollar: False\n",
      "2025-02-07 16:04:20,528 - hydromt_fiat - exposure_vector - INFO - Setting up exposure data from multiple sources...\n",
      "2025-02-07 16:04:20,529 - hydromt_fiat - exposure_vector - INFO - Setting up asset locations...\n",
      "2025-02-07 16:04:20,534 - hydromt_fiat - geodataframe - INFO - Reading  vector data from ./data/assets/Rio_assets.gpkg\n",
      "2025-02-07 16:05:30,145 - hydromt_fiat - geodataframe - DEBUG - Clip intersects [656954.000, 7464936.000, 677304.000, 7480686.000] (EPSG:32723)\n",
      "2025-02-07 16:05:30,758 - hydromt_fiat - exposure_vector - INFO - Setting exposure geometries...\n",
      "2025-02-07 16:05:30,759 - hydromt_fiat - exposure_vector - INFO - Setting geometry name to buildings...\n",
      "2025-02-07 16:05:30,760 - hydromt_fiat - exposure_vector - INFO - Setting up occupancy type from ./data/assets/Rio_assets.gpkg...\n",
      "2025-02-07 16:05:30,761 - hydromt_fiat - geodataframe - INFO - Reading  vector data from ./data/assets/Rio_assets.gpkg\n",
      "2025-02-07 16:06:57,882 - hydromt_fiat - geodataframe - DEBUG - Clip intersects [656954.000, 7464936.000, 677304.000, 7480686.000] (EPSG:32723)\n",
      "2025-02-07 16:07:23,062 - hydromt_fiat - exposure_vector - WARNING - 0 objects were not overlapping with the land use data and will be classified as residential buildings.\n",
      "2025-02-07 16:07:25,034 - hydromt_fiat - dataframe - INFO - Reading  csv data from data\\max_potential_damages\\Rio_max_pot_damages.csv\n",
      "2025-02-07 16:07:25,894 - hydromt_fiat - exposure_vector - WARNING - Not found in the data\\max_potential_damages\\Rio_max_pot_damages.csv damage value data: 'residential'\n",
      "2025-02-07 16:07:25,897 - hydromt_fiat - exposure_vector - WARNING - Not found in the data\\max_potential_damages\\Rio_max_pot_damages.csv damage value data: 'residential'\n",
      "2025-02-07 16:07:27,158 - hydromt_fiat - exposure_vector - WARNING - ground_elevtn is not recognized by the setup_ground_elevation function\n",
      "2025-02-07 16:07:27,160 - hydromt_fiat - exposure_vector - WARNING - ground_elevtn will be set to 0\n",
      "2025-02-07 16:07:27,329 - hydromt_fiat - exposure_vector - INFO - The primary_object_type was used to link the exposure data to the vulnerability curves for structure damages.\n",
      "2025-02-07 16:07:27,451 - hydromt_fiat - exposure_vector - INFO - The primary_object_type was used to link the exposure data to the vulnerability curves for content damages.\n",
      "Required variable column max_damage_{} not found in exposure data.\n"
     ]
    }
   ],
   "source": [
    "fiat_model.build(region={\"geom\": region}, opt=configuration, write=False)"
   ]
  },
  {
   "cell_type": "markdown",
   "id": "3c18d888",
   "metadata": {},
   "source": [
    "## **Step 4a**: Inspect model\n",
    "We now inspect the resulting exposure data and vulnerability curves that will be saved in the `fiat_model`.\n",
    "\n",
    "### Exposure data\n",
    "In the map below, the region and secondary_object_type of the exposure objects are plotted. You can zoom in and see whether the data makes sense, perhaps using Google maps and/or streetview to validate the occupancy types.\n",
    "\n",
    "*Note: In Delft-FIAT, exposure is defined with object footprints, lines or centroids. In this example we are only using the buildings extracted from the OSM data. This means we are not going to look into, e.g., farmland, roads, etc. but that is possible with Delft-FIAT.*"
   ]
  },
  {
   "cell_type": "code",
   "execution_count": null,
   "id": "6df4fb1b",
   "metadata": {},
   "outputs": [],
   "source": [
    "# Get the geodataframe with exposure data\n",
    "gdf = fiat_model.exposure.get_full_gdf(fiat_model.exposure.exposure_db)\n",
    "\n",
    "# Plot the region and the secondary_object_types of the exposure data\n",
    "m = region.explore(name=\"Region\", style_kwds={\"color\": \"black\", \"fill\": False})\n",
    "m = gdf.explore(m=m, column=\"secondary_object_type\", name=\"Exposure types\")\n",
    "m"
   ]
  },
  {
   "cell_type": "markdown",
   "id": "e6ddda9d",
   "metadata": {},
   "source": [
    "### Maximum potential damage values\n",
    "The next thing we inspect are the maximum potential damage values. Each of these buildings has a maximum potential damage that can be inflicted by a flood, which is associated with structural damages (e.g., to the walls) or damage to contents (e.g., to the furniture).\n",
    "\n",
    "The maximum structural potential damage of a building is associated with the construction costs, the size of the building and the depreciated value of the building after the flood. For an accurate flood damage assessment this information is required at the building level. However, often this is not available. Therefore, the buildings are usually classified based on their material and usage type, and assigned a generalized maximum potential damage per m<sup>2</sup> per class.\n",
    "\n",
    "In this example, the maximum potential damage values per m<sup>2</sup> from a local entitiy. Vulnerability curves are taken from a regional study.\n",
    "\n",
    "In this case the maximum potential damage is in Brazilian Real 2024. By multiplying the maximum potential damage values per m<sup>2</sup> with the area of the building footprints, we derive the maximum potential structure damage value for each of our exposure assets. You can see this in the map below."
   ]
  },
  {
   "cell_type": "code",
   "execution_count": null,
   "id": "0ac56e14",
   "metadata": {},
   "outputs": [],
   "source": [
    "gdf.explore(column=\"max_damage_total\")"
   ]
  },
  {
   "attachments": {},
   "cell_type": "markdown",
   "id": "b7d618a6",
   "metadata": {},
   "source": [
    "### Vulnerability curves\n",
    "A flooding typically does not cause maximum damage to a structure. This is accounted for by the damage fraction, quantifying the damage to a structure relative to the maximum potential damage. A damage cuvre, or vulnerability curve, then relates the water depth (quantifying the flood severity) to the damage fraction. The shape of the damage curve differs for each occupancy type. These two datasets are linked through the vulnerability linking table. If the ground floor of a building is raised (by an amount given by `ground_floor_height`), the water depth is reduced with the ground_flht."
   ]
  },
  {
   "cell_type": "code",
   "execution_count": null,
   "id": "ca00eef7",
   "metadata": {},
   "outputs": [],
   "source": [
    "# Get the range of (possible) water depths\n",
    "water_depths = fiat_model.vulnerability.hazard_values\n",
    "# Plot damage curves for some occupancy types\n",
    "line_styles = [\"--\", \"-\", \":\"]\n",
    "for function_name, ls in zip(fiat_model.vulnerability.functions.keys(), line_styles):\n",
    "    dmg = [float(i) for i in fiat_model.vulnerability.functions[function_name]]\n",
    "    plt.plot(water_depths, dmg, label=function_name, ls=ls)\n",
    "plt.xlabel(\"depth (m)\")\n",
    "plt.ylabel(\"damage fraction (-)\")\n",
    "plt.legend(bbox_to_anchor=(1.04, 1), loc=\"upper left\")\n",
    "plt.show()"
   ]
  },
  {
   "attachments": {},
   "cell_type": "markdown",
   "id": "0b37d263",
   "metadata": {},
   "source": [
    "## **Step 5**: Write a model\n",
    "In this final step, the FIAT model is written to the `model_folder` in the folder structure that is required for Delft-FIAT."
   ]
  },
  {
   "cell_type": "code",
   "execution_count": null,
   "id": "32996f5d",
   "metadata": {},
   "outputs": [],
   "source": [
    "fiat_model.write()"
   ]
  },
  {
   "cell_type": "markdown",
   "id": "e5dbcc76",
   "metadata": {},
   "source": [
    "## **Step 6**: Read a model\n",
    "First initialize a new model instance in read mode in the correct folder to read in an already configured model"
   ]
  },
  {
   "cell_type": "code",
   "execution_count": null,
   "id": "8bc253dc",
   "metadata": {},
   "outputs": [],
   "source": [
    "fiat_model_new = FiatModel(\n",
    "    root=model_folder, mode=\"r\", data_libs=[data_catalog], logger=logger\n",
    ")\n",
    "fiat_model_new.read()"
   ]
  }
 ],
 "metadata": {
  "kernelspec": {
   "display_name": "hydromt-fiat-dev",
   "language": "python",
   "name": "python3"
  },
  "language_info": {
   "codemirror_mode": {
    "name": "ipython",
    "version": 3
   },
   "file_extension": ".py",
   "mimetype": "text/x-python",
   "name": "python",
   "nbconvert_exporter": "python",
   "pygments_lexer": "ipython3",
   "version": "3.10.16"
  }
 },
 "nbformat": 4,
 "nbformat_minor": 5
}
